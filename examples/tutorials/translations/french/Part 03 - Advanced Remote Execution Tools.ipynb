{
 "cells": [
  {
   "cell_type": "markdown",
   "metadata": {
    "lang": "fr"
   },
   "source": [
    "# Partie 3: Outils avancés d'exécution à distance\n",
    "\n",
    "Dans la dernière section, nous avons formé un modèle de jouet en utilisant l'apprentissage fédéré. Nous l'avons fait en appelant .send () et .get () sur notre modèle, en l'envoyant à l'emplacement des données d'entraînement, en le mettant à jour, puis en le rapportant. Cependant, à la fin de l'exemple, nous avons réalisé que nous devions aller un peu plus loin pour protéger la vie privée des gens. A savoir, nous voulons faire la moyenne des gradients **avant** d'appeler .get (). De cette façon, nous ne verrons jamais le gradient exact de personne (protégeant ainsi mieux sa vie privée !!!)\n",
    "\n",
    "Mais pour ce faire, nous avons besoin de quelques pièces supplémentaires:\n",
    "\n",
    "- utiliser un pointeur pour envoyer un tenseur directement à un autre travailleur\n",
    "\n",
    "Et en plus, pendant que nous sommes ici, nous allons en apprendre davantage sur quelques opérations de tenseur plus avancées qui nous aideront à la fois avec cet exemple et quelques-unes à l'avenir!\n",
    "\n",
    "Auteurs:\n",
    "- Andrew Trask - Twitter: [@iamtrask] (https://twitter.com/iamtrask)"
   ]
  },
  {
   "cell_type": "code",
   "execution_count": null,
   "metadata": {},
   "outputs": [],
   "source": [
    "import torch\n",
    "import syft as sy\n",
    "hook = sy.TorchHook(torch)"
   ]
  },
  {
   "cell_type": "markdown",
   "metadata": {
    "lang": "fr"
   },
   "source": [
    "# Section 3.1 - Pointeurs vers pointeurs\n",
    "\n",
    "Comme vous le savez, les objets PointerTensor ressemblent à des tenseurs normaux. En fait, ils sont _tellement semblables à des tenseurs_ que nous pouvons même avoir des pointeurs **à** les pointeurs. Vérifiez-le!"
   ]
  },
  {
   "cell_type": "code",
   "execution_count": null,
   "metadata": {},
   "outputs": [],
   "source": [
    "bob = sy.VirtualWorker(hook, id='bob')\n",
    "alice = sy.VirtualWorker(hook, id='alice')"
   ]
  },
  {
   "cell_type": "code",
   "execution_count": null,
   "metadata": {},
   "outputs": [],
   "source": [
    "# c'est un tenseur local\n",
    "x = torch.tensor([1,2,3,4])\n",
    "x"
   ]
  },
  {
   "cell_type": "code",
   "execution_count": null,
   "metadata": {},
   "outputs": [],
   "source": [
    "# cela envoie le tenseur local à Bob\n",
    "x_ptr = x.send(bob)\n",
    "\n",
    "# c'est maintenant un pointeur\n",
    "x_ptr"
   ]
  },
  {
   "cell_type": "code",
   "execution_count": null,
   "metadata": {},
   "outputs": [],
   "source": [
    "# maintenant nous pouvons ENVOYER LE POINTEUR à alice !!!\n",
    "pointer_to_x_ptr = x_ptr.send(alice)\n",
    "\n",
    "pointer_to_x_ptr"
   ]
  },
  {
   "cell_type": "markdown",
   "metadata": {
    "lang": "fr"
   },
   "source": [
    "### Qu'est-il arrivé?\n",
    "\n",
    "Ainsi, dans l'exemple précédent, nous avons créé un tenseur appelé «x» et l'envoyer à Bob, créant un pointeur sur notre machine locale («x _ptr»).\n",
    "\n",
    "Ensuite, nous avons appelé `x_ ptr.send (alice)` qui **a envoyé le pointeur** à Alice.\n",
    "\n",
    "Remarque, cela n'a PAS déplacé les données! Au lieu de cela, il a déplacé le pointeur vers les données !!"
   ]
  },
  {
   "cell_type": "code",
   "execution_count": null,
   "metadata": {},
   "outputs": [],
   "source": [
    "# Comme vous pouvez le voir ci-dessus, Bob a toujours les données réelles \n",
    "# (les données sont toujours stockées dans un type LocalTensor).\n",
    "bob._objects"
   ]
  },
  {
   "cell_type": "code",
   "execution_count": null,
   "metadata": {},
   "outputs": [],
   "source": [
    "# Alice, en revanche, a x_ptr !! (remarquez comment ça pointe sur bob)\n",
    "alice._objects"
   ]
  },
  {
   "cell_type": "markdown",
   "metadata": {},
   "source": [
    "\n",
    "\n"
   ]
  },
  {
   "cell_type": "code",
   "execution_count": null,
   "metadata": {},
   "outputs": [],
   "source": [
    "# et nous pouvons utiliser .get () pour récupérer x_ptr d'Alice\n",
    "\n",
    "x_ptr = pointer_to_x_ptr.get()\n",
    "x_ptr"
   ]
  },
  {
   "cell_type": "code",
   "execution_count": null,
   "metadata": {},
   "outputs": [],
   "source": [
    "#puis nous pouvons utiliser x_ptr pour récupérer x de Bob!\n",
    "\n",
    "x = x_ptr.get()\n",
    "x"
   ]
  },
  {
   "cell_type": "markdown",
   "metadata": {
    "lang": "fr"
   },
   "source": [
    "### Arithmétique sur pointeur -> Pointeur -> Objet de données\n",
    "\n",
    "Et tout comme avec les pointeurs normaux, nous pouvons effectuer des opérations PyTorch arbitraires sur ces tenseurs"
   ]
  },
  {
   "cell_type": "code",
   "execution_count": null,
   "metadata": {},
   "outputs": [],
   "source": [
    "bob._objects"
   ]
  },
  {
   "cell_type": "code",
   "execution_count": null,
   "metadata": {},
   "outputs": [],
   "source": [
    "alice._objects"
   ]
  },
  {
   "cell_type": "code",
   "execution_count": null,
   "metadata": {},
   "outputs": [],
   "source": [
    "p2p2x = torch.tensor([1,2,3,4,5]).send(bob).send(alice)\n",
    "\n",
    "y = p2p2x + p2p2x"
   ]
  },
  {
   "cell_type": "code",
   "execution_count": null,
   "metadata": {},
   "outputs": [],
   "source": [
    "bob._objects"
   ]
  },
  {
   "cell_type": "code",
   "execution_count": null,
   "metadata": {},
   "outputs": [],
   "source": [
    "alice._objects"
   ]
  },
  {
   "cell_type": "code",
   "execution_count": null,
   "metadata": {},
   "outputs": [],
   "source": [
    "y.get().get()"
   ]
  },
  {
   "cell_type": "code",
   "execution_count": null,
   "metadata": {},
   "outputs": [],
   "source": [
    "bob._objects"
   ]
  },
  {
   "cell_type": "code",
   "execution_count": null,
   "metadata": {},
   "outputs": [],
   "source": [
    "alice._objects"
   ]
  },
  {
   "cell_type": "code",
   "execution_count": null,
   "metadata": {},
   "outputs": [],
   "source": [
    "p2p2x.get().get()"
   ]
  },
  {
   "cell_type": "code",
   "execution_count": null,
   "metadata": {},
   "outputs": [],
   "source": [
    "bob._objects"
   ]
  },
  {
   "cell_type": "code",
   "execution_count": null,
   "metadata": {},
   "outputs": [],
   "source": [
    "alice._objects"
   ]
  },
  {
   "cell_type": "markdown",
   "metadata": {
    "lang": "fr"
   },
   "source": [
    "# Section 3.2 - Opérations de la chaîne de pointeurs\n",
    "\n",
    "Donc, dans la dernière section, chaque fois que nous avons appelé une opération .send () ou .get (), elle a appelé cette opération directement sur le tenseur de notre machine locale. Cependant, si vous avez une chaîne de pointeurs, vous souhaitez parfois appeler des opérations telles que .get () ou .send () sur le **dernier** pointeur de la chaîne (comme l'envoi de données directement à partir d'un travailleur à un autre). Pour ce faire, vous souhaitez utiliser des fonctions spécialement conçues pour cette opération de préservation de la confidentialité.\n",
    "\n",
    "Ces opérations sont:\n",
    "\n",
    "- `mon _pointer2pointer.move (un autre_ travailleur)`"
   ]
  },
  {
   "cell_type": "code",
   "execution_count": null,
   "metadata": {},
   "outputs": [],
   "source": [
    "# x est maintenant un pointeur vers les données qui vivent sur la machine de Bob\n",
    "x = torch.tensor([1,2,3,4,5]).send(bob)"
   ]
  },
  {
   "cell_type": "code",
   "execution_count": null,
   "metadata": {},
   "outputs": [],
   "source": [
    "print('  bob:', bob._objects)\n",
    "print('alice:',alice._objects)"
   ]
  },
  {
   "cell_type": "code",
   "execution_count": null,
   "metadata": {},
   "outputs": [],
   "source": [
    "x = x.move(alice)"
   ]
  },
  {
   "cell_type": "code",
   "execution_count": null,
   "metadata": {},
   "outputs": [],
   "source": [
    "print('  bob:', bob._objects)\n",
    "print('alice:',alice._objects)"
   ]
  },
  {
   "cell_type": "code",
   "execution_count": null,
   "metadata": {},
   "outputs": [],
   "source": [
    "x"
   ]
  },
  {
   "cell_type": "markdown",
   "metadata": {
    "lang": "fr"
   },
   "source": [
    "Excellent! Nous sommes maintenant équipés des outils pour effectuer une **moyenne de gradient à distance** à l'aide d'un agrégateur de confiance!"
   ]
  },
  {
   "cell_type": "markdown",
   "metadata": {
    "lang": "fr"
   },
   "source": [
    "# Toutes nos félicitations!!! - Il est temps de rejoindre la communauté!\n",
    "\n",
    "Félicitations pour avoir terminé ce didacticiel pour ordinateur portable! Si cela vous a plu et que vous souhaitez rejoindre le mouvement vers la préservation de la vie privée, la propriété décentralisée de l'IA et la chaîne d'approvisionnement de l'IA (données), vous pouvez le faire de la manière suivante!\n",
    "\n",
    "### Star PySyft sur GitHub\n",
    "\n",
    "La façon la plus simple d'aider notre communauté est de mettre en vedette les Repos! Cela permet de mieux faire connaître les outils sympas que nous construisons.\n",
    "\n",
    "- [Star PySyft] (https://github.com/OpenMined/PySyft)\n",
    "\n",
    "### Rejoignez-nous sur Slack!\n",
    "\n",
    "La meilleure façon de vous tenir au courant des dernières avancées est de rejoindre notre communauté! Vous pouvez le faire en remplissant le formulaire à [http://slack.openmined.org] (http://slack.openmined.org)\n",
    "\n",
    "### Rejoignez-nous sur un projet de code!\n",
    "\n",
    "La meilleure façon de contribuer à notre communauté est de devenir un contributeur de code! À tout moment, vous pouvez accéder à la page Problèmes de PySyft GitHub et filtrer pour \"Projets\". Cela vous montrera tous les billets de haut niveau donnant un aperçu des projets que vous pouvez rejoindre! Si vous ne souhaitez pas rejoindre un projet, mais que vous souhaitez faire un peu de codage, vous pouvez également rechercher d'autres mini-projets \"uniques\" en recherchant les problèmes GitHub marqués \"bon premier problème\".\n",
    "\n",
    "- [Projets PySyft] (https://github.com/OpenMined/PySyft/issues?q=is%3Aopen+is%3Aissue+label%3AProject)\n",
    "- [Billets Good First Issue] (https://github.com/OpenMined/PySyft/issues?q=is%3Aopen+is%3Aissue+label%3A%22good+first+issue%22)\n",
    "\n",
    "### Faire un don\n",
    "\n",
    "Si vous n'avez pas le temps de contribuer à notre base de code, mais souhaitez tout de même apporter votre soutien, vous pouvez également devenir Backer sur notre Open Collective. Tous les dons vont à notre hébergement Web et à d'autres dépenses communautaires telles que les hackathons et les rencontres!\n",
    "\n",
    "[Open Collective Page d'OpenMined] (https://opencollective.com/openmined)"
   ]
  },
  {
   "cell_type": "code",
   "execution_count": null,
   "metadata": {},
   "outputs": [],
   "source": []
  }
 ],
 "metadata": {
  "kernelspec": {
   "display_name": "Python 3",
   "language": "python",
   "name": "python3"
  },
  "language_info": {
   "codemirror_mode": {
    "name": "ipython",
    "version": 3
   },
   "file_extension": ".py",
   "mimetype": "text/x-python",
   "name": "python",
   "nbconvert_exporter": "python",
   "pygments_lexer": "ipython3",
   "version": "3.7.5"
  },
  "nbTranslate": {
   "displayLangs": [
    "*"
   ],
   "hotkey": "alt-t",
   "langInMainMenu": true,
   "sourceLang": "en",
   "targetLang": "fr",
   "useGoogleTranslate": true
  }
 },
 "nbformat": 4,
 "nbformat_minor": 2
}
