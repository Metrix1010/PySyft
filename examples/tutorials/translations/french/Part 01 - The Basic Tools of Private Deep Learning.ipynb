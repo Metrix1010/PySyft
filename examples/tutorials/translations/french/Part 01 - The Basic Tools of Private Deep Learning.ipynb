{
 "cells": [
  {
   "cell_type": "markdown",
   "metadata": {
    "lang": "fr"
   },
   "source": [
    "# Tutoriel: Les outils de base du Deep Deep Learning\n",
    "\n",
    "Bienvenue dans le didacticiel d'introduction de PySyft pour un apprentissage approfondi décentralisé et préservant la confidentialité. Cette série de cahiers est un guide étape par étape pour vous familiariser avec les nouveaux outils et techniques nécessaires pour effectuer un apprentissage approfondi sur des données / modèles secrets / privés sans les centraliser sous une seule autorité.\n",
    "\n",
    "**Portée:** Notez que nous ne parlerons pas seulement de la manière de décentraliser / crypter les données, mais aussi de la façon dont PySyft peut être utilisé pour aider à décentraliser l'ensemble de l'écosystème autour des données, y compris Bases de données où les données sont stockées et interrogées, et les modèles neuronaux qui sont utilisés pour extraire des informations des données. À mesure que de nouvelles extensions de PySyft sont créées, ces blocs-notes seront étendus avec de nouveaux didacticiels pour expliquer la nouvelle fonctionnalité.\n",
    "\n",
    "Auteurs:\n",
    "- Andrew Trask - Twitter: [@iamtrask] (https://twitter.com/iamtrask)\n",
    "\n",
    "## Contour:\n",
    "\n",
    "- Partie 1: Les outils de base de l'apprentissage profond privé\n",
    "\n",
    "\n",
    "## Pourquoi suivre ce didacticiel?\n",
    "\n",
    "**1) Un avantage de carrière compétitif** - Au cours des 20 dernières années, la révolution numérique a rendu les données de plus en plus accessibles en quantités toujours plus importantes à mesure que les processus analogiques se sont numérisés. Cependant, avec une nouvelle réglementation telle que le [RGPD] (https://eugdpr.org/), les entreprises sont sous pression pour avoir moins de liberté quant à la façon dont elles utilisent - et surtout comment elles analysent - les informations personnelles. **Conclusion:** Les Data Scientists n'auront pas accès à autant de données avec des outils \"old school\", mais en apprenant les outils du Private Deep Learning, VOUS pouvez être en avance sur cette courbe et avoir un avantage concurrentiel dans votre carrière.\n",
    "\n",
    "**2) Opportunités entrepreneuriales** - Il existe une multitude de problèmes dans la société que le Deep Learning peut résoudre, mais bon nombre des plus importants n'ont pas été explorés car cela nécessiterait l'accès à des informations incroyablement sensibles sur les personnes (pensez à utiliser le Deep Learning pour aider les personnes ayant des problèmes mentaux ou relationnels!). Ainsi, l'apprentissage Private Deep Learning ouvre pour vous une multitude de nouvelles opportunités de démarrage qui n'étaient pas disponibles auparavant pour d'autres sans ces outils.\n",
    "\n",
    "**3) Bien social** - Le Deep Learning peut être utilisé pour résoudre une grande variété de problèmes dans le monde réel, mais le Deep Learning sur *les informations personnelles* est le Deep Learning sur les personnes, <*> pour les personnes <*>. Apprendre à faire du Deep Learning sur des données que vous ne possédez pas représente plus qu'une carrière ou une opportunité entrepreneuriale, c'est l'occasion d'aider à résoudre certains des problèmes les plus personnels et les plus importants de la vie des gens - et de le faire à grande échelle.\n",
    "\n",
    "## Comment obtenir un crédit supplémentaire?\n",
    "\n",
    "- Star PySyft sur GitHub! - [https://github.com/OpenMined/PySyft 4,0(https://github.com/OpenMined/PySyft)\n",
    "- Faites une vidéo Youtube enseignant ce cahier!\n",
    "\n",
    "\n",
    "... ok ... faisons ça!"
   ]
  },
  {
   "cell_type": "markdown",
   "metadata": {
    "lang": "fr"
   },
   "source": [
    "# Partie -1: Prérequis\n",
    "\n",
    "- Connaissez PyTorch - sinon, suivez le cours http://fast.ai et revenez\n",
    "- Lisez le document cadre PySyft https://arxiv.org/pdf/1811.04017.pdf! Cela vous donnera un aperçu complet de la façon dont PySyft est construit, ce qui aidera les choses à avoir plus de sens."
   ]
  },
  {
   "cell_type": "markdown",
   "metadata": {
    "lang": "fr"
   },
   "source": [
    "# Partie 0: Configuration\n",
    "\n",
    "Pour commencer, vous devrez vous assurer que les bonnes choses sont installées. Pour ce faire, rendez-vous sur le fichier Lisez-moi de PySyft et suivez les instructions de configuration. TLDR pour la plupart des gens est.\n",
    "\n",
    "- Installer Python 3.6 ou supérieur\n",
    "- Installez PyTorch 1.3\n",
    "- Clone PySyft (git clone https://github.com/OpenMined/PySyft.git)\n",
    "- cd PySyft\n",
    "- pip install -r pip-dep / requirements.txt\n",
    "- pip install -r pip-dep / requirements_udacity.txt\n",
    "- python setup.py installe udacity\n",
    "- test python setup.py\n",
    "\n",
    "Si une partie de cela ne fonctionne pas pour vous (ou si l'un des tests échoue) - vérifiez d'abord le [README] (https://github.com/OpenMined/PySyft.git) pour obtenir de l'aide sur l'installation, puis ouvrez un problème GitHub ou envoyez une requête ping à la chaîne #beginner dans notre jeu! [slack.openmined.org] (http://slack.openmined.org/)"
   ]
  },
  {
   "cell_type": "code",
   "execution_count": 1,
   "metadata": {
    "lang": "en"
   },
   "outputs": [
    {
     "ename": "ModuleNotFoundError",
     "evalue": "No module named 'torch'",
     "output_type": "error",
     "traceback": [
      "\u001b[1;31m---------------------------------------------------------------------------\u001b[0m",
      "\u001b[1;31mModuleNotFoundError\u001b[0m                       Traceback (most recent call last)",
      "\u001b[1;32m<ipython-input-1-d07cbaf37b94>\u001b[0m in \u001b[0;36m<module>\u001b[1;34m\u001b[0m\n\u001b[0;32m      2\u001b[0m \u001b[1;32mimport\u001b[0m \u001b[0msys\u001b[0m\u001b[1;33m\u001b[0m\u001b[1;33m\u001b[0m\u001b[0m\n\u001b[0;32m      3\u001b[0m \u001b[1;33m\u001b[0m\u001b[0m\n\u001b[1;32m----> 4\u001b[1;33m \u001b[1;32mimport\u001b[0m \u001b[0mtorch\u001b[0m\u001b[1;33m\u001b[0m\u001b[1;33m\u001b[0m\u001b[0m\n\u001b[0m\u001b[0;32m      5\u001b[0m \u001b[1;32mfrom\u001b[0m \u001b[0mtorch\u001b[0m\u001b[1;33m.\u001b[0m\u001b[0mnn\u001b[0m \u001b[1;32mimport\u001b[0m \u001b[0mParameter\u001b[0m\u001b[1;33m\u001b[0m\u001b[1;33m\u001b[0m\u001b[0m\n\u001b[0;32m      6\u001b[0m \u001b[1;32mimport\u001b[0m \u001b[0mtorch\u001b[0m\u001b[1;33m.\u001b[0m\u001b[0mnn\u001b[0m \u001b[1;32mas\u001b[0m \u001b[0mnn\u001b[0m\u001b[1;33m\u001b[0m\u001b[1;33m\u001b[0m\u001b[0m\n",
      "\u001b[1;31mModuleNotFoundError\u001b[0m: No module named 'torch'"
     ]
    }
   ],
   "source": [
    "# Exécutez cette cellule pour voir si les choses fonctionnent\n",
    "import sys\n",
    "\n",
    "import torch\n",
    "from torch.nn import Parameter\n",
    "import torch.nn as nn\n",
    "import torch.nn.functional as F\n",
    "\n",
    "import syft as sy\n",
    "hook = sy.TorchHook(torch)\n",
    "\n",
    "torch.tensor([1,2,3,4,5])"
   ]
  },
  {
   "cell_type": "markdown",
   "metadata": {
    "lang": "fr"
   },
   "source": [
    "Si cette cellule est exécutée, alors c'est parti pour les courses! Faisons cela!"
   ]
  },
  {
   "cell_type": "markdown",
   "metadata": {
    "lang": "fr"
   },
   "source": [
    "# Partie 1: Les outils de base de la science des données privée et décentralisée\n",
    "\n",
    "Donc - la première question que vous vous posez peut-être est la suivante: comment dans le monde formons-nous un modèle sur des données auxquelles nous n'avons pas accès?\n",
    "\n",
    "Eh bien, la réponse est étonnamment simple. Si vous avez l'habitude de travailler dans PyTorch, alors vous avez l'habitude de travailler avec des objets torche.Tensor comme ceux-ci!"
   ]
  },
  {
   "cell_type": "code",
   "execution_count": 2,
   "metadata": {},
   "outputs": [
    {
     "ename": "NameError",
     "evalue": "name 'torch' is not defined",
     "output_type": "error",
     "traceback": [
      "\u001b[1;31m---------------------------------------------------------------------------\u001b[0m",
      "\u001b[1;31mNameError\u001b[0m                                 Traceback (most recent call last)",
      "\u001b[1;32m<ipython-input-2-4107c4431394>\u001b[0m in \u001b[0;36m<module>\u001b[1;34m\u001b[0m\n\u001b[1;32m----> 1\u001b[1;33m \u001b[0mx\u001b[0m \u001b[1;33m=\u001b[0m \u001b[0mtorch\u001b[0m\u001b[1;33m.\u001b[0m\u001b[0mtensor\u001b[0m\u001b[1;33m(\u001b[0m\u001b[1;33m[\u001b[0m\u001b[1;36m1\u001b[0m\u001b[1;33m,\u001b[0m\u001b[1;36m2\u001b[0m\u001b[1;33m,\u001b[0m\u001b[1;36m3\u001b[0m\u001b[1;33m,\u001b[0m\u001b[1;36m4\u001b[0m\u001b[1;33m,\u001b[0m\u001b[1;36m5\u001b[0m\u001b[1;33m]\u001b[0m\u001b[1;33m)\u001b[0m\u001b[1;33m\u001b[0m\u001b[1;33m\u001b[0m\u001b[0m\n\u001b[0m\u001b[0;32m      2\u001b[0m \u001b[0my\u001b[0m \u001b[1;33m=\u001b[0m \u001b[0mx\u001b[0m \u001b[1;33m+\u001b[0m \u001b[0mx\u001b[0m\u001b[1;33m\u001b[0m\u001b[1;33m\u001b[0m\u001b[0m\n\u001b[0;32m      3\u001b[0m \u001b[0mprint\u001b[0m\u001b[1;33m(\u001b[0m\u001b[0my\u001b[0m\u001b[1;33m)\u001b[0m\u001b[1;33m\u001b[0m\u001b[1;33m\u001b[0m\u001b[0m\n",
      "\u001b[1;31mNameError\u001b[0m: name 'torch' is not defined"
     ]
    }
   ],
   "source": [
    "x = torch.tensor([1,2,3,4,5])\n",
    "y = x + x\n",
    "print(y)"
   ]
  },
  {
   "cell_type": "markdown",
   "metadata": {
    "lang": "fr"
   },
   "source": [
    "Évidemment, l'utilisation de ces tenseurs super sophistiqués (et puissants!) Est importante, mais vous oblige également à avoir les données sur votre machine locale. C'est là que commence notre voyage.\n",
    "\n",
    "# Section 1.1 - Envoi de tenseurs à la machine de Bob\n",
    "\n",
    "Alors que normalement nous effectuerions la science des données / l'apprentissage en profondeur sur la machine qui contient les données, nous voulons maintenant effectuer ce type de calcul sur une **autre** machine. Plus précisément, nous ne pouvons plus simplement supposer que les données se trouvent sur notre machine locale.\n",
    "\n",
    "Ainsi, au lieu d'utiliser des tenseurs Torch, nous allons maintenant travailler avec **pointeurs** vers des tenseurs. Permettez-moi de vous montrer ce que je veux dire. Créons d'abord une machine à \"faire semblant\" appartenant à une personne \"à faire semblant\" - nous l'appellerons Bob."
   ]
  },
  {
   "cell_type": "code",
   "execution_count": 3,
   "metadata": {},
   "outputs": [
    {
     "ename": "NameError",
     "evalue": "name 'sy' is not defined",
     "output_type": "error",
     "traceback": [
      "\u001b[1;31m---------------------------------------------------------------------------\u001b[0m",
      "\u001b[1;31mNameError\u001b[0m                                 Traceback (most recent call last)",
      "\u001b[1;32m<ipython-input-3-b9e1037deafb>\u001b[0m in \u001b[0;36m<module>\u001b[1;34m\u001b[0m\n\u001b[1;32m----> 1\u001b[1;33m \u001b[0mbob\u001b[0m \u001b[1;33m=\u001b[0m \u001b[0msy\u001b[0m\u001b[1;33m.\u001b[0m\u001b[0mVirtualWorker\u001b[0m\u001b[1;33m(\u001b[0m\u001b[0mhook\u001b[0m\u001b[1;33m,\u001b[0m \u001b[0mid\u001b[0m\u001b[1;33m=\u001b[0m\u001b[1;34m\"bob\"\u001b[0m\u001b[1;33m)\u001b[0m\u001b[1;33m\u001b[0m\u001b[1;33m\u001b[0m\u001b[0m\n\u001b[0m",
      "\u001b[1;31mNameError\u001b[0m: name 'sy' is not defined"
     ]
    }
   ],
   "source": [
    "bob = sy.VirtualWorker(hook, id=\"bob\")"
   ]
  },
  {
   "cell_type": "markdown",
   "metadata": {
    "lang": "fr"
   },
   "source": [
    "Disons que la machine de Bob est sur une autre planète - peut-être sur Mars! Mais, pour le moment, la machine est vide. Créons des données pour que nous puissions les envoyer à Bob et en apprendre davantage sur les pointeurs!"
   ]
  },
  {
   "cell_type": "code",
   "execution_count": null,
   "metadata": {},
   "outputs": [],
   "source": [
    "x = torch.tensor([1,2,3,4,5])\n",
    "y = torch.tensor([1,1,1,1,1])"
   ]
  },
  {
   "cell_type": "markdown",
   "metadata": {
    "lang": "fr"
   },
   "source": [
    "Et maintenant - envoyons nos tenseurs à Bob !!"
   ]
  },
  {
   "cell_type": "code",
   "execution_count": null,
   "metadata": {},
   "outputs": [],
   "source": [
    "x_ptr = x.send(bob)\n",
    "y_ptr = y.send(bob)"
   ]
  },
  {
   "cell_type": "code",
   "execution_count": null,
   "metadata": {},
   "outputs": [],
   "source": [
    "x_ptr"
   ]
  },
  {
   "cell_type": "markdown",
   "metadata": {
    "lang": "fr"
   },
   "source": [
    "BOOM! Maintenant, Bob a deux tenseurs! Tu ne me crois pas? Jetez un œil par vous-même!"
   ]
  },
  {
   "cell_type": "code",
   "execution_count": null,
   "metadata": {},
   "outputs": [],
   "source": [
    "bob._objects"
   ]
  },
  {
   "cell_type": "code",
   "execution_count": null,
   "metadata": {},
   "outputs": [],
   "source": [
    "z = x_ptr + x_ptr"
   ]
  },
  {
   "cell_type": "code",
   "execution_count": null,
   "metadata": {},
   "outputs": [],
   "source": [
    "z"
   ]
  },
  {
   "cell_type": "code",
   "execution_count": null,
   "metadata": {},
   "outputs": [],
   "source": [
    "bob._objects"
   ]
  },
  {
   "cell_type": "markdown",
   "metadata": {
    "lang": "fr"
   },
   "source": [
    "Maintenant remarquez quelque chose. Lorsque nous avons appelé `x.send (bob)`, il a renvoyé un nouvel objet que nous avons appelé `x_ptr`. Il s'agit de notre premier *pointeur* vers un tenseur. Les pointeurs vers les tenseurs ne contiennent PAS eux-mêmes les données. Au lieu de cela, ils contiennent simplement des métadonnées sur un tenseur (avec des données) stockées sur une autre machine. Le but de ces tenseurs est de nous donner une API intuitive pour dire à l'autre machine de calculer les fonctions utilisant ce tenseur. Jetons un coup d'œil aux métadonnées que contiennent les pointeurs."
   ]
  },
  {
   "cell_type": "code",
   "execution_count": null,
   "metadata": {},
   "outputs": [],
   "source": [
    "x_ptr"
   ]
  },
  {
   "cell_type": "markdown",
   "metadata": {
    "lang": "en"
   },
   "source": [
    "Check out that metadata!\n",
    "\n",
    "There are two main attributes specific to pointers:\n",
    "\n",
    "- `x_ptr.location : bob`, the location, a reference to the location that the pointer is pointing to\n",
    "- `x_ptr.id_at_location : <random integer>`, the id where the tensor is stored at location\n",
    "\n",
    "They are printed in the format `<id_at_location>@<location>`\n",
    "\n",
    "There are also other more generic attributes:\n",
    "- `x_ptr.id : <random integer>`, the id of our pointer tensor, it was allocated randomly\n",
    "- `x_ptr.owner : \"me\"`, the worker which owns the pointer tensor, here it's the local worker, named \"me\"\n"
   ]
  },
  {
   "cell_type": "markdown",
   "metadata": {
    "lang": "fr"
   },
   "source": [
    "Découvrez ces métadonnées!\n",
    "\n",
    "Il existe deux principaux attributs spécifiques aux pointeurs:\n",
    "\n",
    "- `x _ptr.location: bob`, l'emplacement, une référence à l'emplacement vers lequel pointe le pointeur\n",
    "- `x_ ptr.id _à_ emplacement: <random integer>`, l'identifiant où le tenseur est stocké à l'emplacement\n",
    "\n",
    "Ils sont imprimés au format «<id_at_location> @ <location>»\n",
    "\n",
    "Il existe également d'autres attributs plus génériques:\n",
    "- `x _ptr.id: <random integer>`, l'id de notre tenseur de pointeur, il a été alloué aléatoirement\n",
    "- `x_ ptr.owner:\" me \"`, le travailleur qui possède le tenseur de pointeur, ici c'est le travailleur local, nommé \"moi\""
   ]
  },
  {
   "cell_type": "code",
   "execution_count": null,
   "metadata": {},
   "outputs": [],
   "source": [
    "bob"
   ]
  },
  {
   "cell_type": "code",
   "execution_count": null,
   "metadata": {},
   "outputs": [],
   "source": [
    "bob == x_ptr.location"
   ]
  },
  {
   "cell_type": "code",
   "execution_count": null,
   "metadata": {},
   "outputs": [],
   "source": [
    "x_ptr.id_at_location"
   ]
  },
  {
   "cell_type": "code",
   "execution_count": null,
   "metadata": {},
   "outputs": [],
   "source": [
    "x_ptr.owner"
   ]
  },
  {
   "cell_type": "markdown",
   "metadata": {
    "lang": "fr"
   },
   "source": [
    "Vous vous demandez peut-être pourquoi le travailleur local qui possède le pointeur est également un VirtualWorker, même si nous ne l'avons pas créé.\n",
    "Fait amusant, tout comme nous avions un objet VirtualWorker pour Bob, nous (par défaut) en avons toujours un pour nous également. Ce travailleur est automatiquement créé lorsque nous avons appelé `hook = sy.TorchHook ()` et vous n'avez donc généralement pas à le créer vous-même."
   ]
  },
  {
   "cell_type": "code",
   "execution_count": null,
   "metadata": {},
   "outputs": [],
   "source": [
    "me = sy.local_worker\n",
    "me"
   ]
  },
  {
   "cell_type": "code",
   "execution_count": null,
   "metadata": {},
   "outputs": [],
   "source": [
    "me == x_ptr.owner"
   ]
  },
  {
   "cell_type": "markdown",
   "metadata": {
    "lang": "fr"
   },
   "source": [
    "Et enfin, tout comme nous pouvons appeler .send () sur un tenseur, nous pouvons appeler .get () sur un pointeur vers un tenseur pour le récupérer !!!"
   ]
  },
  {
   "cell_type": "code",
   "execution_count": null,
   "metadata": {},
   "outputs": [],
   "source": [
    "x_ptr"
   ]
  },
  {
   "cell_type": "code",
   "execution_count": null,
   "metadata": {},
   "outputs": [],
   "source": [
    "x_ptr.get()"
   ]
  },
  {
   "cell_type": "code",
   "execution_count": null,
   "metadata": {},
   "outputs": [],
   "source": [
    "y_ptr"
   ]
  },
  {
   "cell_type": "code",
   "execution_count": null,
   "metadata": {},
   "outputs": [],
   "source": [
    "y_ptr.get()"
   ]
  },
  {
   "cell_type": "code",
   "execution_count": null,
   "metadata": {},
   "outputs": [],
   "source": [
    "z.get()"
   ]
  },
  {
   "cell_type": "code",
   "execution_count": null,
   "metadata": {},
   "outputs": [],
   "source": [
    "bob._objects"
   ]
  },
  {
   "cell_type": "markdown",
   "metadata": {
    "lang": "fr"
   },
   "source": [
    "Et comme vous pouvez le voir ... Bob n'a plus les tenseurs !!! Ils sont revenus sur notre machine!"
   ]
  },
  {
   "cell_type": "markdown",
   "metadata": {
    "lang": "fr"
   },
   "source": [
    "# Section 1.2 - Utilisation des pointeurs tenseurs\n",
    "\n",
    "Donc, envoyer et recevoir des tenseurs de Bob est génial, mais ce n'est pas du Deep Learning! Nous voulons pouvoir effectuer des _opérations de tenseur_ sur des tenseurs distants. Heureusement, les pointeurs tenseurs rendent cela assez facile! Vous pouvez simplement utiliser des pointeurs comme vous le feriez avec des tenseurs normaux!"
   ]
  },
  {
   "cell_type": "code",
   "execution_count": null,
   "metadata": {},
   "outputs": [],
   "source": [
    "x = torch.tensor([1,2,3,4,5]).send(bob)\n",
    "y = torch.tensor([1,1,1,1,1]).send(bob)"
   ]
  },
  {
   "cell_type": "code",
   "execution_count": null,
   "metadata": {},
   "outputs": [],
   "source": [
    "z = x + y"
   ]
  },
  {
   "cell_type": "code",
   "execution_count": null,
   "metadata": {},
   "outputs": [],
   "source": [
    "z"
   ]
  },
  {
   "cell_type": "markdown",
   "metadata": {
    "lang": "fr"
   },
   "source": [
    "Et voilà!\n",
    "\n",
    "Dans les coulisses, quelque chose de très puissant s'est produit. Au lieu que x et y calculent un ajout localement, une commande a été sérialisée et envoyée à Bob, qui a effectué le calcul, a créé un tenseur z, puis nous a renvoyé le pointeur z!\n",
    "\n",
    "Si nous appelons .get () sur le pointeur, nous recevrons alors le résultat sur notre machine!"
   ]
  },
  {
   "cell_type": "code",
   "execution_count": null,
   "metadata": {},
   "outputs": [],
   "source": [
    "z.get()"
   ]
  },
  {
   "cell_type": "markdown",
   "metadata": {
    "lang": "fr"
   },
   "source": [
    "### Fonctions de la torche\n",
    "\n",
    "Cette API a été étendue à toutes les opérations de Torch !!!"
   ]
  },
  {
   "cell_type": "code",
   "execution_count": null,
   "metadata": {},
   "outputs": [],
   "source": [
    "x"
   ]
  },
  {
   "cell_type": "code",
   "execution_count": null,
   "metadata": {},
   "outputs": [],
   "source": [
    "y"
   ]
  },
  {
   "cell_type": "code",
   "execution_count": null,
   "metadata": {},
   "outputs": [],
   "source": [
    "z = torch.add(x,y)\n",
    "z"
   ]
  },
  {
   "cell_type": "code",
   "execution_count": null,
   "metadata": {},
   "outputs": [],
   "source": [
    "z.get()"
   ]
  },
  {
   "cell_type": "markdown",
   "metadata": {
    "lang": "fr"
   },
   "source": [
    "### Variables (y compris la rétropropagation!)"
   ]
  },
  {
   "cell_type": "code",
   "execution_count": null,
   "metadata": {},
   "outputs": [],
   "source": [
    "x = torch.tensor([1,2,3,4,5.], requires_grad=True).send(bob)\n",
    "y = torch.tensor([1,1,1,1,1.], requires_grad=True).send(bob)"
   ]
  },
  {
   "cell_type": "code",
   "execution_count": null,
   "metadata": {},
   "outputs": [],
   "source": [
    "z = (x + y).sum()"
   ]
  },
  {
   "cell_type": "code",
   "execution_count": null,
   "metadata": {},
   "outputs": [],
   "source": [
    "z.backward()"
   ]
  },
  {
   "cell_type": "code",
   "execution_count": null,
   "metadata": {},
   "outputs": [],
   "source": [
    "x = x.get()"
   ]
  },
  {
   "cell_type": "code",
   "execution_count": null,
   "metadata": {},
   "outputs": [],
   "source": [
    "x"
   ]
  },
  {
   "cell_type": "code",
   "execution_count": null,
   "metadata": {},
   "outputs": [],
   "source": [
    "x.grad"
   ]
  },
  {
   "cell_type": "markdown",
   "metadata": {
    "lang": "fr"
   },
   "source": [
    "Donc, comme vous pouvez le voir, l'API est vraiment assez flexible et capable d'effectuer presque toutes les opérations que vous effectuez normalement dans Torch sur *les données distantes*. Cela jette les bases de nos protocoles plus avancés de préservation de la confidentialité tels que l'apprentissage fédéré, le calcul multipartite sécurisé et la confidentialité différentielle!"
   ]
  },
  {
   "cell_type": "code",
   "execution_count": null,
   "metadata": {},
   "outputs": [],
   "source": []
  },
  {
   "cell_type": "markdown",
   "metadata": {
    "lang": "fr"
   },
   "source": [
    "# Toutes nos félicitations!!! - Il est temps de rejoindre la communauté!\n",
    "\n",
    "Félicitations pour avoir terminé ce didacticiel pour ordinateur portable! Si cela vous a plu et que vous souhaitez rejoindre le mouvement vers la préservation de la vie privée, la propriété décentralisée de l'IA et la chaîne d'approvisionnement de l'IA (données), vous pouvez le faire de la manière suivante!\n",
    "\n",
    "### Star PySyft sur GitHub\n",
    "\n",
    "Le moyen le plus simple d'aider notre communauté est simplement de mettre en vedette les dépôts GitHub! Cela permet de mieux faire connaître les outils sympas que nous construisons.\n",
    "\n",
    "- [Star PySyft] (https://github.com/OpenMined/PySyft)\n",
    "\n",
    "### Rejoignez notre Slack!\n",
    "\n",
    "La meilleure façon de vous tenir au courant des dernières avancées est de rejoindre notre communauté! Vous pouvez le faire en remplissant le formulaire à [http://slack.openmined.org] (http://slack.openmined.org)\n",
    "\n",
    "### Rejoignez un projet de code!\n",
    "\n",
    "La meilleure façon de contribuer à notre communauté est de devenir un contributeur de code! À tout moment, vous pouvez accéder à la page Problèmes de PySyft GitHub et filtrer pour \"Projets\". Cela vous montrera tous les billets de haut niveau donnant un aperçu des projets que vous pouvez rejoindre! Si vous ne souhaitez pas rejoindre un projet, mais que vous souhaitez faire un peu de codage, vous pouvez également rechercher d'autres mini-projets \"uniques\" en recherchant les problèmes GitHub marqués \"bon premier problème\".\n",
    "\n",
    "- [Projets PySyft] (https://github.com/OpenMined/PySyft/issues?q=is%3Aopen+is%3Aissue+label%3AProject)\n",
    "- [Billets Good First Issue] (https://github.com/OpenMined/PySyft/issues?q=is%3Aopen+is%3Aissue+label%3A%22good+first+issue%22)\n",
    "\n",
    "### Faire un don\n",
    "\n",
    "Si vous n'avez pas le temps de contribuer à notre base de code, mais souhaitez tout de même apporter votre soutien, vous pouvez également devenir Backer sur notre Open Collective. Tous les dons vont à notre hébergement Web et à d'autres dépenses communautaires telles que les hackathons et les rencontres!\n",
    "\n",
    "[Open Collective Page d'OpenMined] (https://opencollective.com/openmined)"
   ]
  },
  {
   "cell_type": "code",
   "execution_count": null,
   "metadata": {},
   "outputs": [],
   "source": []
  }
 ],
 "metadata": {
  "kernelspec": {
   "display_name": "Python 3",
   "language": "python",
   "name": "python3"
  },
  "language_info": {
   "codemirror_mode": {
    "name": "ipython",
    "version": 3
   },
   "file_extension": ".py",
   "mimetype": "text/x-python",
   "name": "python",
   "nbconvert_exporter": "python",
   "pygments_lexer": "ipython3",
   "version": "3.7.5"
  },
  "nbTranslate": {
   "displayLangs": [
    "*"
   ],
   "hotkey": "alt-t",
   "langInMainMenu": true,
   "sourceLang": "en",
   "targetLang": "fr",
   "useGoogleTranslate": true
  }
 },
 "nbformat": 4,
 "nbformat_minor": 2
}
